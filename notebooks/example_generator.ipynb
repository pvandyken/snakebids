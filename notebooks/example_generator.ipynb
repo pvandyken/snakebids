{
 "cells": [
  {
   "cell_type": "code",
   "execution_count": null,
   "metadata": {},
   "outputs": [],
   "source": [
    "import io\n",
    "import itertools as it\n",
    "import os\n",
    "import shutil\n",
    "\n",
    "import yaml\n",
    "\n",
    "from snakebids import BidsComponent, BidsDataset, generate_inputs\n",
    "from snakebids.tests.helpers import *\n",
    "\n",
    "\n",
    "def get_component(name: str, wildcards: Mapping[str, Sequence[str]], **fixed: str):\n",
    "    entities = list(wildcards.keys())\n",
    "    combs = list(it.product(*wildcards.values()))\n",
    "    get_zip_list(entities, combs)\n",
    "    ziplist = get_zip_list(entities, combs)\n",
    "    path = get_bids_path(entities, **fixed)\n",
    "    return BidsComponent(name=name, path=path, zip_lists=ziplist)\n",
    "\n",
    "\n",
    "full = BidsDataset.from_iterable(\n",
    "    it.chain(\n",
    "        (\n",
    "            get_component(\n",
    "                name,\n",
    "                {\n",
    "                    \"subject\": [\"001\", \"002\"],\n",
    "                    \"session\": [\"01\", \"02\"],\n",
    "                    \"run\": [\"01\"],\n",
    "                },\n",
    "                suffix=f\"T1w{ext}\",\n",
    "                datatype=\"anat\",\n",
    "            )\n",
    "            for name, ext in zip((\"anat\", \"anat_meta\"), (\".nii.gz\", \".json\"))\n",
    "        ),\n",
    "        (\n",
    "            get_component(\n",
    "                name,\n",
    "                {\n",
    "                    \"subject\": [\"001\", \"002\"],\n",
    "                    \"session\": [\"01\", \"02\"],\n",
    "                    # \"run\": [\"01\"],\n",
    "                },\n",
    "                suffix=f\"T1w{ext}\",\n",
    "                datatype=\"anat\",\n",
    "            )\n",
    "            for name, ext in zip((\"foo\", \"foo_meta\"), (\".nii.gz\", \".json\"))\n",
    "        ),\n",
    "    )\n",
    ")"
   ]
  },
  {
   "cell_type": "code",
   "execution_count": null,
   "metadata": {},
   "outputs": [],
   "source": [
    "if os.path.exists('example'):\n",
    "    shutil.rmtree(\"example\")\n",
    "create_dataset(\"example\", full)\n",
    "with open(\"example/dataset_description.json\", \"w\"):\n",
    "    pass"
   ]
  },
  {
   "cell_type": "code",
   "execution_count": null,
   "metadata": {},
   "outputs": [],
   "source": [
    "config = yaml.safe_load(\n",
    "    io.StringIO(\n",
    "        \"\"\"\n",
    "pybids_inputs:\n",
    "  bold:\n",
    "    filters:\n",
    "      datatype: anat\n",
    "      suffix: T1w\n",
    "      extension: .nii.gz\n",
    "      run:\n",
    "        - 01\n",
    "        - false\n",
    "    wildcards:\n",
    "      - subject\n",
    "      - session\n",
    "      - run\n",
    "\"\"\"\n",
    "    )\n",
    ")\n",
    "generate_inputs(\"example\", config[\"pybids_inputs\"])"
   ]
  },
  {
   "cell_type": "code",
   "execution_count": null,
   "metadata": {},
   "outputs": [],
   "source": [
    "if os.path.exists('example'):\n",
    "    shutil.rmtree(\"example\")"
   ]
  }
 ],
 "metadata": {
  "jupytext": {
   "formats": "ipynb,py:percent"
  },
  "kernelspec": {
   "display_name": "snakebids-3.7.9",
   "language": "python",
   "name": "python3"
  },
  "language_info": {
   "codemirror_mode": {
    "name": "ipython",
    "version": 3
   },
   "file_extension": ".py",
   "mimetype": "text/x-python",
   "name": "python",
   "nbconvert_exporter": "python",
   "pygments_lexer": "ipython3",
   "version": "3.7.9"
  }
 },
 "nbformat": 4,
 "nbformat_minor": 2
}
